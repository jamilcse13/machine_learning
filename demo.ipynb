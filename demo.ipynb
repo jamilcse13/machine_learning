{
 "cells": [
  {
   "cell_type": "code",
   "execution_count": 8,
   "id": "afbd8e8d",
   "metadata": {},
   "outputs": [],
   "source": [
    "import pandas as pd"
   ]
  },
  {
   "cell_type": "code",
   "execution_count": 5,
   "id": "a080ff0f",
   "metadata": {},
   "outputs": [],
   "source": [
    "cma_names = pd.read_csv(\"cma_names.csv\")"
   ]
  },
  {
   "cell_type": "code",
   "execution_count": 9,
   "outputs": [
    {
     "data": {
      "text/plain": "   Virtual ID  New Virtual                 Company Name  Compant Type  \\\n0   8784700.0   1085354364        SOFTWARE SHOP LIMITED  2020 Company   \n1   2750710.0   1085340946             ABUL KHAIR GROUP  2020 Company   \n2   1227090.0   1085327710            NITOL MOTORS LTD.  2020 Company   \n3  13471181.0   1085338238  DOTLINES BANGLADESH LIMITED  2021 Company   \n4   5789632.0   1085328997         ARISTOPHARMA LIMITED  2020 Company   \n\n  Agreement Since Unit       Zone                  CAM Name    CAM Mobile  \\\n0             NaN  Key      Key 4             Ashraful Amin  1.926662e+09   \n1             NaN  CTG  CTG South  Abu Saly Mohammad Shanur  1.962401e+09   \n2             NaN  Key      Key 1            Md Zabir Pasha  1.939901e+09   \n3             NaN  Key      Key 2           Md Israfil Khan  1.924401e+09   \n4             NaN  Key      Key 1         S M Rasheduzzahan  1.962400e+09   \n\n                CGM Name  ...             ERM Name.1  ERM Number.1  \\\n0       Md Arifur Rahman  ...  Sayed Mushfiqul Islam  1.404446e+09   \n1  Syed Salahuddin Israr  ...            Adnan Ahmed  1.404446e+09   \n2         S M Fahdzzaman  ...            Sadia Afnan  1.404446e+09   \n3      A N M Saleh Akram  ...           Bulbul Ahmed  1.404446e+09   \n4         S M Fahdzzaman  ...       Md Rakibul Islam  1.404446e+09   \n\n      ERM Name.2  ERM Number.2  ERM Name.3 ERM Number.3  ERM Name.4  \\\n0            NaN           NaN         NaN          NaN         NaN   \n1            NaN           NaN         NaN          NaN         NaN   \n2            NaN           NaN         NaN          NaN         NaN   \n3  MD. Abu Sayed  1.404446e+09         NaN          NaN         NaN   \n4            NaN           NaN         NaN          NaN         NaN   \n\n  ERM Number.4  ERM Name.5 ERM Number.5  \n0          NaN         NaN          NaN  \n1          NaN         NaN          NaN  \n2          NaN         NaN          NaN  \n3          NaN         NaN          NaN  \n4          NaN         NaN          NaN  \n\n[5 rows x 23 columns]",
      "text/html": "<div>\n<style scoped>\n    .dataframe tbody tr th:only-of-type {\n        vertical-align: middle;\n    }\n\n    .dataframe tbody tr th {\n        vertical-align: top;\n    }\n\n    .dataframe thead th {\n        text-align: right;\n    }\n</style>\n<table border=\"1\" class=\"dataframe\">\n  <thead>\n    <tr style=\"text-align: right;\">\n      <th></th>\n      <th>Virtual ID</th>\n      <th>New Virtual</th>\n      <th>Company Name</th>\n      <th>Compant Type</th>\n      <th>Agreement Since</th>\n      <th>Unit</th>\n      <th>Zone</th>\n      <th>CAM Name</th>\n      <th>CAM Mobile</th>\n      <th>CGM Name</th>\n      <th>...</th>\n      <th>ERM Name.1</th>\n      <th>ERM Number.1</th>\n      <th>ERM Name.2</th>\n      <th>ERM Number.2</th>\n      <th>ERM Name.3</th>\n      <th>ERM Number.3</th>\n      <th>ERM Name.4</th>\n      <th>ERM Number.4</th>\n      <th>ERM Name.5</th>\n      <th>ERM Number.5</th>\n    </tr>\n  </thead>\n  <tbody>\n    <tr>\n      <th>0</th>\n      <td>8784700.0</td>\n      <td>1085354364</td>\n      <td>SOFTWARE SHOP LIMITED</td>\n      <td>2020 Company</td>\n      <td>NaN</td>\n      <td>Key</td>\n      <td>Key 4</td>\n      <td>Ashraful Amin</td>\n      <td>1.926662e+09</td>\n      <td>Md Arifur Rahman</td>\n      <td>...</td>\n      <td>Sayed Mushfiqul Islam</td>\n      <td>1.404446e+09</td>\n      <td>NaN</td>\n      <td>NaN</td>\n      <td>NaN</td>\n      <td>NaN</td>\n      <td>NaN</td>\n      <td>NaN</td>\n      <td>NaN</td>\n      <td>NaN</td>\n    </tr>\n    <tr>\n      <th>1</th>\n      <td>2750710.0</td>\n      <td>1085340946</td>\n      <td>ABUL KHAIR GROUP</td>\n      <td>2020 Company</td>\n      <td>NaN</td>\n      <td>CTG</td>\n      <td>CTG South</td>\n      <td>Abu Saly Mohammad Shanur</td>\n      <td>1.962401e+09</td>\n      <td>Syed Salahuddin Israr</td>\n      <td>...</td>\n      <td>Adnan Ahmed</td>\n      <td>1.404446e+09</td>\n      <td>NaN</td>\n      <td>NaN</td>\n      <td>NaN</td>\n      <td>NaN</td>\n      <td>NaN</td>\n      <td>NaN</td>\n      <td>NaN</td>\n      <td>NaN</td>\n    </tr>\n    <tr>\n      <th>2</th>\n      <td>1227090.0</td>\n      <td>1085327710</td>\n      <td>NITOL MOTORS LTD.</td>\n      <td>2020 Company</td>\n      <td>NaN</td>\n      <td>Key</td>\n      <td>Key 1</td>\n      <td>Md Zabir Pasha</td>\n      <td>1.939901e+09</td>\n      <td>S M Fahdzzaman</td>\n      <td>...</td>\n      <td>Sadia Afnan</td>\n      <td>1.404446e+09</td>\n      <td>NaN</td>\n      <td>NaN</td>\n      <td>NaN</td>\n      <td>NaN</td>\n      <td>NaN</td>\n      <td>NaN</td>\n      <td>NaN</td>\n      <td>NaN</td>\n    </tr>\n    <tr>\n      <th>3</th>\n      <td>13471181.0</td>\n      <td>1085338238</td>\n      <td>DOTLINES BANGLADESH LIMITED</td>\n      <td>2021 Company</td>\n      <td>NaN</td>\n      <td>Key</td>\n      <td>Key 2</td>\n      <td>Md Israfil Khan</td>\n      <td>1.924401e+09</td>\n      <td>A N M Saleh Akram</td>\n      <td>...</td>\n      <td>Bulbul Ahmed</td>\n      <td>1.404446e+09</td>\n      <td>MD. Abu Sayed</td>\n      <td>1.404446e+09</td>\n      <td>NaN</td>\n      <td>NaN</td>\n      <td>NaN</td>\n      <td>NaN</td>\n      <td>NaN</td>\n      <td>NaN</td>\n    </tr>\n    <tr>\n      <th>4</th>\n      <td>5789632.0</td>\n      <td>1085328997</td>\n      <td>ARISTOPHARMA LIMITED</td>\n      <td>2020 Company</td>\n      <td>NaN</td>\n      <td>Key</td>\n      <td>Key 1</td>\n      <td>S M Rasheduzzahan</td>\n      <td>1.962400e+09</td>\n      <td>S M Fahdzzaman</td>\n      <td>...</td>\n      <td>Md Rakibul Islam</td>\n      <td>1.404446e+09</td>\n      <td>NaN</td>\n      <td>NaN</td>\n      <td>NaN</td>\n      <td>NaN</td>\n      <td>NaN</td>\n      <td>NaN</td>\n      <td>NaN</td>\n      <td>NaN</td>\n    </tr>\n  </tbody>\n</table>\n<p>5 rows × 23 columns</p>\n</div>"
     },
     "execution_count": 9,
     "metadata": {},
     "output_type": "execute_result"
    }
   ],
   "source": [
    "cma_names.head()"
   ],
   "metadata": {
    "collapsed": false
   }
  },
  {
   "cell_type": "code",
   "execution_count": null,
   "outputs": [],
   "source": [],
   "metadata": {
    "collapsed": false
   }
  }
 ],
 "metadata": {
  "kernelspec": {
   "display_name": "Python 3 (ipykernel)",
   "language": "python",
   "name": "python3"
  },
  "language_info": {
   "codemirror_mode": {
    "name": "ipython",
    "version": 3
   },
   "file_extension": ".py",
   "mimetype": "text/x-python",
   "name": "python",
   "nbconvert_exporter": "python",
   "pygments_lexer": "ipython3",
   "version": "3.10.6"
  }
 },
 "nbformat": 4,
 "nbformat_minor": 5
}
